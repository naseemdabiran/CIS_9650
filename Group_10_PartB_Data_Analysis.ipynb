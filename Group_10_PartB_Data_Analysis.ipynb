{
 "cells": [
  {
   "cell_type": "markdown",
   "id": "a596e4ed",
   "metadata": {
    "id": "a596e4ed"
   },
   "source": [
    "GROUP 10: Thy Bui, Naseem Dabiran, Yifeng Yang "
   ]
  },
  {
   "cell_type": "markdown",
   "id": "d5f924b9",
   "metadata": {
    "id": "d5f924b9"
   },
   "source": [
    "Narrative of Project: \n",
    "\n",
    "We performed basic data analysis on the pima.csv dataset. The pima.csv dataset is data collected from females over the age of 21 that have Pima heritage and was used to predict whether she will get diabetes or no based on diagnostic measurements.\n"
   ]
  },
  {
   "cell_type": "code",
   "execution_count": 1,
   "id": "be029034",
   "metadata": {
    "id": "be029034"
   },
   "outputs": [],
   "source": [
    "#import libraries\n",
    "import numpy as np\n",
    "import pandas as pd\n",
    "import seaborn as sns\n",
    "import matplotlib.pyplot as plt\n",
    "import statsmodels.api as sm"
   ]
  },
  {
   "cell_type": "code",
   "execution_count": 2,
   "id": "8ca8813e",
   "metadata": {
    "id": "8ca8813e",
    "outputId": "98bb6284-903a-4013-d733-d11526894ff3"
   },
   "outputs": [
    {
     "name": "stdout",
     "output_type": "stream",
     "text": [
      "768\n",
      "10\n",
      "Index(['Unnamed: 0', 'NPG', 'PGL', 'DIA', 'TSF', 'INS', 'BMI', 'DPF', 'AGE',\n",
      "       'Diabet'],\n",
      "      dtype='object')\n"
     ]
    }
   ],
   "source": [
    "data = pd.read_csv('pima.csv', low_memory = False)\n",
    "\n",
    "print(len(data)) #number of rows\n",
    "print(len(data.columns)) #number of variables in dataset\n",
    "\n",
    "print(data.columns)"
   ]
  },
  {
   "cell_type": "code",
   "execution_count": 3,
   "id": "9633b339",
   "metadata": {
    "id": "9633b339",
    "outputId": "169f2629-c887-4758-d441-28d45e70e2eb",
    "scrolled": true
   },
   "outputs": [
    {
     "data": {
      "text/html": [
       "<div>\n",
       "<style scoped>\n",
       "    .dataframe tbody tr th:only-of-type {\n",
       "        vertical-align: middle;\n",
       "    }\n",
       "\n",
       "    .dataframe tbody tr th {\n",
       "        vertical-align: top;\n",
       "    }\n",
       "\n",
       "    .dataframe thead th {\n",
       "        text-align: right;\n",
       "    }\n",
       "</style>\n",
       "<table border=\"1\" class=\"dataframe\">\n",
       "  <thead>\n",
       "    <tr style=\"text-align: right;\">\n",
       "      <th></th>\n",
       "      <th>Unnamed: 0</th>\n",
       "      <th>NPG</th>\n",
       "      <th>PGL</th>\n",
       "      <th>DIA</th>\n",
       "      <th>TSF</th>\n",
       "      <th>INS</th>\n",
       "      <th>BMI</th>\n",
       "      <th>DPF</th>\n",
       "      <th>AGE</th>\n",
       "      <th>Diabet</th>\n",
       "    </tr>\n",
       "  </thead>\n",
       "  <tbody>\n",
       "    <tr>\n",
       "      <th>0</th>\n",
       "      <td>1</td>\n",
       "      <td>6</td>\n",
       "      <td>148</td>\n",
       "      <td>72</td>\n",
       "      <td>35</td>\n",
       "      <td>0</td>\n",
       "      <td>33.6</td>\n",
       "      <td>0.627</td>\n",
       "      <td>50</td>\n",
       "      <td>1</td>\n",
       "    </tr>\n",
       "    <tr>\n",
       "      <th>1</th>\n",
       "      <td>2</td>\n",
       "      <td>1</td>\n",
       "      <td>85</td>\n",
       "      <td>66</td>\n",
       "      <td>29</td>\n",
       "      <td>0</td>\n",
       "      <td>26.6</td>\n",
       "      <td>0.351</td>\n",
       "      <td>31</td>\n",
       "      <td>0</td>\n",
       "    </tr>\n",
       "    <tr>\n",
       "      <th>2</th>\n",
       "      <td>3</td>\n",
       "      <td>8</td>\n",
       "      <td>183</td>\n",
       "      <td>64</td>\n",
       "      <td>0</td>\n",
       "      <td>0</td>\n",
       "      <td>23.3</td>\n",
       "      <td>0.672</td>\n",
       "      <td>32</td>\n",
       "      <td>1</td>\n",
       "    </tr>\n",
       "    <tr>\n",
       "      <th>3</th>\n",
       "      <td>4</td>\n",
       "      <td>1</td>\n",
       "      <td>89</td>\n",
       "      <td>66</td>\n",
       "      <td>23</td>\n",
       "      <td>94</td>\n",
       "      <td>28.1</td>\n",
       "      <td>0.167</td>\n",
       "      <td>21</td>\n",
       "      <td>0</td>\n",
       "    </tr>\n",
       "    <tr>\n",
       "      <th>4</th>\n",
       "      <td>5</td>\n",
       "      <td>0</td>\n",
       "      <td>137</td>\n",
       "      <td>40</td>\n",
       "      <td>35</td>\n",
       "      <td>168</td>\n",
       "      <td>43.1</td>\n",
       "      <td>2.288</td>\n",
       "      <td>33</td>\n",
       "      <td>1</td>\n",
       "    </tr>\n",
       "  </tbody>\n",
       "</table>\n",
       "</div>"
      ],
      "text/plain": [
       "   Unnamed: 0  NPG  PGL  DIA  TSF  INS   BMI    DPF  AGE  Diabet\n",
       "0           1    6  148   72   35    0  33.6  0.627   50       1\n",
       "1           2    1   85   66   29    0  26.6  0.351   31       0\n",
       "2           3    8  183   64    0    0  23.3  0.672   32       1\n",
       "3           4    1   89   66   23   94  28.1  0.167   21       0\n",
       "4           5    0  137   40   35  168  43.1  2.288   33       1"
      ]
     },
     "execution_count": 3,
     "metadata": {},
     "output_type": "execute_result"
    }
   ],
   "source": [
    "data.head()"
   ]
  },
  {
   "cell_type": "code",
   "execution_count": 4,
   "id": "3d6f05eb",
   "metadata": {
    "id": "3d6f05eb",
    "outputId": "6cc06f49-b884-4217-c5bc-50e5e85cb74c"
   },
   "outputs": [
    {
     "data": {
      "text/html": [
       "<div>\n",
       "<style scoped>\n",
       "    .dataframe tbody tr th:only-of-type {\n",
       "        vertical-align: middle;\n",
       "    }\n",
       "\n",
       "    .dataframe tbody tr th {\n",
       "        vertical-align: top;\n",
       "    }\n",
       "\n",
       "    .dataframe thead th {\n",
       "        text-align: right;\n",
       "    }\n",
       "</style>\n",
       "<table border=\"1\" class=\"dataframe\">\n",
       "  <thead>\n",
       "    <tr style=\"text-align: right;\">\n",
       "      <th></th>\n",
       "      <th>Unnamed: 0</th>\n",
       "      <th>NPG</th>\n",
       "      <th>PGL</th>\n",
       "      <th>DIA</th>\n",
       "      <th>TSF</th>\n",
       "      <th>INS</th>\n",
       "      <th>BMI</th>\n",
       "      <th>DPF</th>\n",
       "      <th>AGE</th>\n",
       "      <th>Diabet</th>\n",
       "    </tr>\n",
       "  </thead>\n",
       "  <tbody>\n",
       "    <tr>\n",
       "      <th>count</th>\n",
       "      <td>768.000000</td>\n",
       "      <td>768.000000</td>\n",
       "      <td>768.000000</td>\n",
       "      <td>768.000000</td>\n",
       "      <td>768.000000</td>\n",
       "      <td>768.000000</td>\n",
       "      <td>768.000000</td>\n",
       "      <td>768.000000</td>\n",
       "      <td>768.000000</td>\n",
       "      <td>768.000000</td>\n",
       "    </tr>\n",
       "    <tr>\n",
       "      <th>mean</th>\n",
       "      <td>384.500000</td>\n",
       "      <td>3.845052</td>\n",
       "      <td>120.894531</td>\n",
       "      <td>69.105469</td>\n",
       "      <td>20.536458</td>\n",
       "      <td>79.799479</td>\n",
       "      <td>31.992578</td>\n",
       "      <td>0.471876</td>\n",
       "      <td>33.240885</td>\n",
       "      <td>0.348958</td>\n",
       "    </tr>\n",
       "    <tr>\n",
       "      <th>std</th>\n",
       "      <td>221.846794</td>\n",
       "      <td>3.369578</td>\n",
       "      <td>31.972618</td>\n",
       "      <td>19.355807</td>\n",
       "      <td>15.952218</td>\n",
       "      <td>115.244002</td>\n",
       "      <td>7.884160</td>\n",
       "      <td>0.331329</td>\n",
       "      <td>11.760232</td>\n",
       "      <td>0.476951</td>\n",
       "    </tr>\n",
       "    <tr>\n",
       "      <th>min</th>\n",
       "      <td>1.000000</td>\n",
       "      <td>0.000000</td>\n",
       "      <td>0.000000</td>\n",
       "      <td>0.000000</td>\n",
       "      <td>0.000000</td>\n",
       "      <td>0.000000</td>\n",
       "      <td>0.000000</td>\n",
       "      <td>0.078000</td>\n",
       "      <td>21.000000</td>\n",
       "      <td>0.000000</td>\n",
       "    </tr>\n",
       "    <tr>\n",
       "      <th>25%</th>\n",
       "      <td>192.750000</td>\n",
       "      <td>1.000000</td>\n",
       "      <td>99.000000</td>\n",
       "      <td>62.000000</td>\n",
       "      <td>0.000000</td>\n",
       "      <td>0.000000</td>\n",
       "      <td>27.300000</td>\n",
       "      <td>0.243750</td>\n",
       "      <td>24.000000</td>\n",
       "      <td>0.000000</td>\n",
       "    </tr>\n",
       "    <tr>\n",
       "      <th>50%</th>\n",
       "      <td>384.500000</td>\n",
       "      <td>3.000000</td>\n",
       "      <td>117.000000</td>\n",
       "      <td>72.000000</td>\n",
       "      <td>23.000000</td>\n",
       "      <td>30.500000</td>\n",
       "      <td>32.000000</td>\n",
       "      <td>0.372500</td>\n",
       "      <td>29.000000</td>\n",
       "      <td>0.000000</td>\n",
       "    </tr>\n",
       "    <tr>\n",
       "      <th>75%</th>\n",
       "      <td>576.250000</td>\n",
       "      <td>6.000000</td>\n",
       "      <td>140.250000</td>\n",
       "      <td>80.000000</td>\n",
       "      <td>32.000000</td>\n",
       "      <td>127.250000</td>\n",
       "      <td>36.600000</td>\n",
       "      <td>0.626250</td>\n",
       "      <td>41.000000</td>\n",
       "      <td>1.000000</td>\n",
       "    </tr>\n",
       "    <tr>\n",
       "      <th>max</th>\n",
       "      <td>768.000000</td>\n",
       "      <td>17.000000</td>\n",
       "      <td>199.000000</td>\n",
       "      <td>122.000000</td>\n",
       "      <td>99.000000</td>\n",
       "      <td>846.000000</td>\n",
       "      <td>67.100000</td>\n",
       "      <td>2.420000</td>\n",
       "      <td>81.000000</td>\n",
       "      <td>1.000000</td>\n",
       "    </tr>\n",
       "  </tbody>\n",
       "</table>\n",
       "</div>"
      ],
      "text/plain": [
       "       Unnamed: 0         NPG         PGL         DIA         TSF         INS  \\\n",
       "count  768.000000  768.000000  768.000000  768.000000  768.000000  768.000000   \n",
       "mean   384.500000    3.845052  120.894531   69.105469   20.536458   79.799479   \n",
       "std    221.846794    3.369578   31.972618   19.355807   15.952218  115.244002   \n",
       "min      1.000000    0.000000    0.000000    0.000000    0.000000    0.000000   \n",
       "25%    192.750000    1.000000   99.000000   62.000000    0.000000    0.000000   \n",
       "50%    384.500000    3.000000  117.000000   72.000000   23.000000   30.500000   \n",
       "75%    576.250000    6.000000  140.250000   80.000000   32.000000  127.250000   \n",
       "max    768.000000   17.000000  199.000000  122.000000   99.000000  846.000000   \n",
       "\n",
       "              BMI         DPF         AGE      Diabet  \n",
       "count  768.000000  768.000000  768.000000  768.000000  \n",
       "mean    31.992578    0.471876   33.240885    0.348958  \n",
       "std      7.884160    0.331329   11.760232    0.476951  \n",
       "min      0.000000    0.078000   21.000000    0.000000  \n",
       "25%     27.300000    0.243750   24.000000    0.000000  \n",
       "50%     32.000000    0.372500   29.000000    0.000000  \n",
       "75%     36.600000    0.626250   41.000000    1.000000  \n",
       "max     67.100000    2.420000   81.000000    1.000000  "
      ]
     },
     "execution_count": 4,
     "metadata": {},
     "output_type": "execute_result"
    }
   ],
   "source": [
    "data.describe()"
   ]
  },
  {
   "cell_type": "code",
   "execution_count": 5,
   "id": "2e3eb189",
   "metadata": {
    "id": "2e3eb189",
    "outputId": "7168ab65-04bf-4f01-d25c-0132f5254246"
   },
   "outputs": [
    {
     "data": {
      "text/html": [
       "<div>\n",
       "<style scoped>\n",
       "    .dataframe tbody tr th:only-of-type {\n",
       "        vertical-align: middle;\n",
       "    }\n",
       "\n",
       "    .dataframe tbody tr th {\n",
       "        vertical-align: top;\n",
       "    }\n",
       "\n",
       "    .dataframe thead th {\n",
       "        text-align: right;\n",
       "    }\n",
       "</style>\n",
       "<table border=\"1\" class=\"dataframe\">\n",
       "  <thead>\n",
       "    <tr style=\"text-align: right;\">\n",
       "      <th></th>\n",
       "      <th>Unnamed: 0</th>\n",
       "      <th>NPG</th>\n",
       "      <th>PGL</th>\n",
       "      <th>DIA</th>\n",
       "      <th>TSF</th>\n",
       "      <th>INS</th>\n",
       "      <th>BMI</th>\n",
       "      <th>DPF</th>\n",
       "      <th>AGE</th>\n",
       "      <th>Diabet</th>\n",
       "    </tr>\n",
       "  </thead>\n",
       "  <tbody>\n",
       "    <tr>\n",
       "      <th>Unnamed: 0</th>\n",
       "      <td>1.000000</td>\n",
       "      <td>-0.037201</td>\n",
       "      <td>0.012994</td>\n",
       "      <td>0.020953</td>\n",
       "      <td>0.019006</td>\n",
       "      <td>0.001998</td>\n",
       "      <td>0.012320</td>\n",
       "      <td>-0.040326</td>\n",
       "      <td>0.007714</td>\n",
       "      <td>-0.045184</td>\n",
       "    </tr>\n",
       "    <tr>\n",
       "      <th>NPG</th>\n",
       "      <td>-0.037201</td>\n",
       "      <td>1.000000</td>\n",
       "      <td>0.129459</td>\n",
       "      <td>0.141282</td>\n",
       "      <td>-0.081672</td>\n",
       "      <td>-0.073535</td>\n",
       "      <td>0.017683</td>\n",
       "      <td>-0.033523</td>\n",
       "      <td>0.544341</td>\n",
       "      <td>0.221898</td>\n",
       "    </tr>\n",
       "    <tr>\n",
       "      <th>PGL</th>\n",
       "      <td>0.012994</td>\n",
       "      <td>0.129459</td>\n",
       "      <td>1.000000</td>\n",
       "      <td>0.152590</td>\n",
       "      <td>0.057328</td>\n",
       "      <td>0.331357</td>\n",
       "      <td>0.221071</td>\n",
       "      <td>0.137337</td>\n",
       "      <td>0.263514</td>\n",
       "      <td>0.466581</td>\n",
       "    </tr>\n",
       "    <tr>\n",
       "      <th>DIA</th>\n",
       "      <td>0.020953</td>\n",
       "      <td>0.141282</td>\n",
       "      <td>0.152590</td>\n",
       "      <td>1.000000</td>\n",
       "      <td>0.207371</td>\n",
       "      <td>0.088933</td>\n",
       "      <td>0.281805</td>\n",
       "      <td>0.041265</td>\n",
       "      <td>0.239528</td>\n",
       "      <td>0.065068</td>\n",
       "    </tr>\n",
       "    <tr>\n",
       "      <th>TSF</th>\n",
       "      <td>0.019006</td>\n",
       "      <td>-0.081672</td>\n",
       "      <td>0.057328</td>\n",
       "      <td>0.207371</td>\n",
       "      <td>1.000000</td>\n",
       "      <td>0.436783</td>\n",
       "      <td>0.392573</td>\n",
       "      <td>0.183928</td>\n",
       "      <td>-0.113970</td>\n",
       "      <td>0.074752</td>\n",
       "    </tr>\n",
       "    <tr>\n",
       "      <th>INS</th>\n",
       "      <td>0.001998</td>\n",
       "      <td>-0.073535</td>\n",
       "      <td>0.331357</td>\n",
       "      <td>0.088933</td>\n",
       "      <td>0.436783</td>\n",
       "      <td>1.000000</td>\n",
       "      <td>0.197859</td>\n",
       "      <td>0.185071</td>\n",
       "      <td>-0.042163</td>\n",
       "      <td>0.130548</td>\n",
       "    </tr>\n",
       "    <tr>\n",
       "      <th>BMI</th>\n",
       "      <td>0.012320</td>\n",
       "      <td>0.017683</td>\n",
       "      <td>0.221071</td>\n",
       "      <td>0.281805</td>\n",
       "      <td>0.392573</td>\n",
       "      <td>0.197859</td>\n",
       "      <td>1.000000</td>\n",
       "      <td>0.140647</td>\n",
       "      <td>0.036242</td>\n",
       "      <td>0.292695</td>\n",
       "    </tr>\n",
       "    <tr>\n",
       "      <th>DPF</th>\n",
       "      <td>-0.040326</td>\n",
       "      <td>-0.033523</td>\n",
       "      <td>0.137337</td>\n",
       "      <td>0.041265</td>\n",
       "      <td>0.183928</td>\n",
       "      <td>0.185071</td>\n",
       "      <td>0.140647</td>\n",
       "      <td>1.000000</td>\n",
       "      <td>0.033561</td>\n",
       "      <td>0.173844</td>\n",
       "    </tr>\n",
       "    <tr>\n",
       "      <th>AGE</th>\n",
       "      <td>0.007714</td>\n",
       "      <td>0.544341</td>\n",
       "      <td>0.263514</td>\n",
       "      <td>0.239528</td>\n",
       "      <td>-0.113970</td>\n",
       "      <td>-0.042163</td>\n",
       "      <td>0.036242</td>\n",
       "      <td>0.033561</td>\n",
       "      <td>1.000000</td>\n",
       "      <td>0.238356</td>\n",
       "    </tr>\n",
       "    <tr>\n",
       "      <th>Diabet</th>\n",
       "      <td>-0.045184</td>\n",
       "      <td>0.221898</td>\n",
       "      <td>0.466581</td>\n",
       "      <td>0.065068</td>\n",
       "      <td>0.074752</td>\n",
       "      <td>0.130548</td>\n",
       "      <td>0.292695</td>\n",
       "      <td>0.173844</td>\n",
       "      <td>0.238356</td>\n",
       "      <td>1.000000</td>\n",
       "    </tr>\n",
       "  </tbody>\n",
       "</table>\n",
       "</div>"
      ],
      "text/plain": [
       "            Unnamed: 0       NPG       PGL       DIA       TSF       INS  \\\n",
       "Unnamed: 0    1.000000 -0.037201  0.012994  0.020953  0.019006  0.001998   \n",
       "NPG          -0.037201  1.000000  0.129459  0.141282 -0.081672 -0.073535   \n",
       "PGL           0.012994  0.129459  1.000000  0.152590  0.057328  0.331357   \n",
       "DIA           0.020953  0.141282  0.152590  1.000000  0.207371  0.088933   \n",
       "TSF           0.019006 -0.081672  0.057328  0.207371  1.000000  0.436783   \n",
       "INS           0.001998 -0.073535  0.331357  0.088933  0.436783  1.000000   \n",
       "BMI           0.012320  0.017683  0.221071  0.281805  0.392573  0.197859   \n",
       "DPF          -0.040326 -0.033523  0.137337  0.041265  0.183928  0.185071   \n",
       "AGE           0.007714  0.544341  0.263514  0.239528 -0.113970 -0.042163   \n",
       "Diabet       -0.045184  0.221898  0.466581  0.065068  0.074752  0.130548   \n",
       "\n",
       "                 BMI       DPF       AGE    Diabet  \n",
       "Unnamed: 0  0.012320 -0.040326  0.007714 -0.045184  \n",
       "NPG         0.017683 -0.033523  0.544341  0.221898  \n",
       "PGL         0.221071  0.137337  0.263514  0.466581  \n",
       "DIA         0.281805  0.041265  0.239528  0.065068  \n",
       "TSF         0.392573  0.183928 -0.113970  0.074752  \n",
       "INS         0.197859  0.185071 -0.042163  0.130548  \n",
       "BMI         1.000000  0.140647  0.036242  0.292695  \n",
       "DPF         0.140647  1.000000  0.033561  0.173844  \n",
       "AGE         0.036242  0.033561  1.000000  0.238356  \n",
       "Diabet      0.292695  0.173844  0.238356  1.000000  "
      ]
     },
     "execution_count": 5,
     "metadata": {},
     "output_type": "execute_result"
    }
   ],
   "source": [
    "data.corr()"
   ]
  },
  {
   "cell_type": "code",
   "execution_count": 6,
   "id": "4efef9a3",
   "metadata": {
    "id": "4efef9a3",
    "outputId": "6012b4d8-1d8c-44a5-9fdb-ff0b03d136e4"
   },
   "outputs": [
    {
     "data": {
      "text/html": [
       "<div>\n",
       "<style scoped>\n",
       "    .dataframe tbody tr th:only-of-type {\n",
       "        vertical-align: middle;\n",
       "    }\n",
       "\n",
       "    .dataframe tbody tr th {\n",
       "        vertical-align: top;\n",
       "    }\n",
       "\n",
       "    .dataframe thead th {\n",
       "        text-align: right;\n",
       "    }\n",
       "</style>\n",
       "<table border=\"1\" class=\"dataframe\">\n",
       "  <thead>\n",
       "    <tr style=\"text-align: right;\">\n",
       "      <th></th>\n",
       "      <th>AGE</th>\n",
       "      <th>PGL</th>\n",
       "      <th>INS</th>\n",
       "      <th>BMI</th>\n",
       "      <th>DPF</th>\n",
       "      <th>Diabet</th>\n",
       "    </tr>\n",
       "  </thead>\n",
       "  <tbody>\n",
       "    <tr>\n",
       "      <th>0</th>\n",
       "      <td>50</td>\n",
       "      <td>148</td>\n",
       "      <td>0</td>\n",
       "      <td>33.6</td>\n",
       "      <td>0.627</td>\n",
       "      <td>1</td>\n",
       "    </tr>\n",
       "    <tr>\n",
       "      <th>1</th>\n",
       "      <td>31</td>\n",
       "      <td>85</td>\n",
       "      <td>0</td>\n",
       "      <td>26.6</td>\n",
       "      <td>0.351</td>\n",
       "      <td>0</td>\n",
       "    </tr>\n",
       "    <tr>\n",
       "      <th>2</th>\n",
       "      <td>32</td>\n",
       "      <td>183</td>\n",
       "      <td>0</td>\n",
       "      <td>23.3</td>\n",
       "      <td>0.672</td>\n",
       "      <td>1</td>\n",
       "    </tr>\n",
       "    <tr>\n",
       "      <th>3</th>\n",
       "      <td>21</td>\n",
       "      <td>89</td>\n",
       "      <td>94</td>\n",
       "      <td>28.1</td>\n",
       "      <td>0.167</td>\n",
       "      <td>0</td>\n",
       "    </tr>\n",
       "    <tr>\n",
       "      <th>4</th>\n",
       "      <td>33</td>\n",
       "      <td>137</td>\n",
       "      <td>168</td>\n",
       "      <td>43.1</td>\n",
       "      <td>2.288</td>\n",
       "      <td>1</td>\n",
       "    </tr>\n",
       "  </tbody>\n",
       "</table>\n",
       "</div>"
      ],
      "text/plain": [
       "   AGE  PGL  INS   BMI    DPF  Diabet\n",
       "0   50  148    0  33.6  0.627       1\n",
       "1   31   85    0  26.6  0.351       0\n",
       "2   32  183    0  23.3  0.672       1\n",
       "3   21   89   94  28.1  0.167       0\n",
       "4   33  137  168  43.1  2.288       1"
      ]
     },
     "execution_count": 6,
     "metadata": {},
     "output_type": "execute_result"
    }
   ],
   "source": [
    "#want to focus on bmi, age, glucose, insulin level, and if they have diabetetes\n",
    "dfb = pd.DataFrame(data, columns = ['AGE', 'PGL', 'INS', 'BMI', 'DPF', 'Diabet'])\n",
    "dfb.head()"
   ]
  },
  {
   "cell_type": "code",
   "execution_count": 7,
   "id": "e06ca98d",
   "metadata": {
    "id": "e06ca98d",
    "outputId": "f2531882-d644-4e50-a687-f0e70dfd5f89"
   },
   "outputs": [
    {
     "data": {
      "text/html": [
       "<div>\n",
       "<style scoped>\n",
       "    .dataframe tbody tr th:only-of-type {\n",
       "        vertical-align: middle;\n",
       "    }\n",
       "\n",
       "    .dataframe tbody tr th {\n",
       "        vertical-align: top;\n",
       "    }\n",
       "\n",
       "    .dataframe thead th {\n",
       "        text-align: right;\n",
       "    }\n",
       "</style>\n",
       "<table border=\"1\" class=\"dataframe\">\n",
       "  <thead>\n",
       "    <tr style=\"text-align: right;\">\n",
       "      <th></th>\n",
       "      <th>AGE</th>\n",
       "      <th>PGL</th>\n",
       "      <th>INS</th>\n",
       "      <th>BMI</th>\n",
       "      <th>DPF</th>\n",
       "      <th>Diabet</th>\n",
       "    </tr>\n",
       "  </thead>\n",
       "  <tbody>\n",
       "    <tr>\n",
       "      <th>count</th>\n",
       "      <td>768.000000</td>\n",
       "      <td>768.000000</td>\n",
       "      <td>768.000000</td>\n",
       "      <td>768.000000</td>\n",
       "      <td>768.000000</td>\n",
       "      <td>768.000000</td>\n",
       "    </tr>\n",
       "    <tr>\n",
       "      <th>mean</th>\n",
       "      <td>33.240885</td>\n",
       "      <td>120.894531</td>\n",
       "      <td>79.799479</td>\n",
       "      <td>31.992578</td>\n",
       "      <td>0.471876</td>\n",
       "      <td>0.348958</td>\n",
       "    </tr>\n",
       "    <tr>\n",
       "      <th>std</th>\n",
       "      <td>11.760232</td>\n",
       "      <td>31.972618</td>\n",
       "      <td>115.244002</td>\n",
       "      <td>7.884160</td>\n",
       "      <td>0.331329</td>\n",
       "      <td>0.476951</td>\n",
       "    </tr>\n",
       "    <tr>\n",
       "      <th>min</th>\n",
       "      <td>21.000000</td>\n",
       "      <td>0.000000</td>\n",
       "      <td>0.000000</td>\n",
       "      <td>0.000000</td>\n",
       "      <td>0.078000</td>\n",
       "      <td>0.000000</td>\n",
       "    </tr>\n",
       "    <tr>\n",
       "      <th>25%</th>\n",
       "      <td>24.000000</td>\n",
       "      <td>99.000000</td>\n",
       "      <td>0.000000</td>\n",
       "      <td>27.300000</td>\n",
       "      <td>0.243750</td>\n",
       "      <td>0.000000</td>\n",
       "    </tr>\n",
       "    <tr>\n",
       "      <th>50%</th>\n",
       "      <td>29.000000</td>\n",
       "      <td>117.000000</td>\n",
       "      <td>30.500000</td>\n",
       "      <td>32.000000</td>\n",
       "      <td>0.372500</td>\n",
       "      <td>0.000000</td>\n",
       "    </tr>\n",
       "    <tr>\n",
       "      <th>75%</th>\n",
       "      <td>41.000000</td>\n",
       "      <td>140.250000</td>\n",
       "      <td>127.250000</td>\n",
       "      <td>36.600000</td>\n",
       "      <td>0.626250</td>\n",
       "      <td>1.000000</td>\n",
       "    </tr>\n",
       "    <tr>\n",
       "      <th>max</th>\n",
       "      <td>81.000000</td>\n",
       "      <td>199.000000</td>\n",
       "      <td>846.000000</td>\n",
       "      <td>67.100000</td>\n",
       "      <td>2.420000</td>\n",
       "      <td>1.000000</td>\n",
       "    </tr>\n",
       "  </tbody>\n",
       "</table>\n",
       "</div>"
      ],
      "text/plain": [
       "              AGE         PGL         INS         BMI         DPF      Diabet\n",
       "count  768.000000  768.000000  768.000000  768.000000  768.000000  768.000000\n",
       "mean    33.240885  120.894531   79.799479   31.992578    0.471876    0.348958\n",
       "std     11.760232   31.972618  115.244002    7.884160    0.331329    0.476951\n",
       "min     21.000000    0.000000    0.000000    0.000000    0.078000    0.000000\n",
       "25%     24.000000   99.000000    0.000000   27.300000    0.243750    0.000000\n",
       "50%     29.000000  117.000000   30.500000   32.000000    0.372500    0.000000\n",
       "75%     41.000000  140.250000  127.250000   36.600000    0.626250    1.000000\n",
       "max     81.000000  199.000000  846.000000   67.100000    2.420000    1.000000"
      ]
     },
     "execution_count": 7,
     "metadata": {},
     "output_type": "execute_result"
    }
   ],
   "source": [
    "dfb.describe()"
   ]
  },
  {
   "cell_type": "code",
   "execution_count": 8,
   "id": "be98c313",
   "metadata": {
    "id": "be98c313",
    "outputId": "6ee5ee73-f439-44ef-df60-0c08de787aec"
   },
   "outputs": [
    {
     "data": {
      "text/plain": [
       "array([[<AxesSubplot:title={'center':'AGE'}>,\n",
       "        <AxesSubplot:title={'center':'PGL'}>],\n",
       "       [<AxesSubplot:title={'center':'INS'}>,\n",
       "        <AxesSubplot:title={'center':'BMI'}>],\n",
       "       [<AxesSubplot:title={'center':'DPF'}>,\n",
       "        <AxesSubplot:title={'center':'Diabet'}>]], dtype=object)"
      ]
     },
     "execution_count": 8,
     "metadata": {},
     "output_type": "execute_result"
    },
    {
     "data": {
      "image/png": "[encoded data removed]",
      "text/plain": [
       "<Figure size 1440x1440 with 6 Axes>"
      ]
     },
     "metadata": {
      "needs_background": "light"
     },
     "output_type": "display_data"
    }
   ],
   "source": [
    "dfb.hist(figsize=(20,20))"
   ]
  },
  {
   "cell_type": "code",
   "execution_count": 9,
   "id": "99299fc2",
   "metadata": {
    "id": "99299fc2",
    "outputId": "d942e1b9-677d-4533-f188-a5f0d11422d2"
   },
   "outputs": [
    {
     "data": {
      "text/html": [
       "<div>\n",
       "<style scoped>\n",
       "    .dataframe tbody tr th:only-of-type {\n",
       "        vertical-align: middle;\n",
       "    }\n",
       "\n",
       "    .dataframe tbody tr th {\n",
       "        vertical-align: top;\n",
       "    }\n",
       "\n",
       "    .dataframe thead th {\n",
       "        text-align: right;\n",
       "    }\n",
       "</style>\n",
       "<table border=\"1\" class=\"dataframe\">\n",
       "  <thead>\n",
       "    <tr style=\"text-align: right;\">\n",
       "      <th></th>\n",
       "      <th>AGE</th>\n",
       "      <th>PGL</th>\n",
       "      <th>INS</th>\n",
       "      <th>BMI</th>\n",
       "      <th>DPF</th>\n",
       "      <th>Diabet</th>\n",
       "    </tr>\n",
       "  </thead>\n",
       "  <tbody>\n",
       "    <tr>\n",
       "      <th>AGE</th>\n",
       "      <td>1.000000</td>\n",
       "      <td>0.263514</td>\n",
       "      <td>-0.042163</td>\n",
       "      <td>0.036242</td>\n",
       "      <td>0.033561</td>\n",
       "      <td>0.238356</td>\n",
       "    </tr>\n",
       "    <tr>\n",
       "      <th>PGL</th>\n",
       "      <td>0.263514</td>\n",
       "      <td>1.000000</td>\n",
       "      <td>0.331357</td>\n",
       "      <td>0.221071</td>\n",
       "      <td>0.137337</td>\n",
       "      <td>0.466581</td>\n",
       "    </tr>\n",
       "    <tr>\n",
       "      <th>INS</th>\n",
       "      <td>-0.042163</td>\n",
       "      <td>0.331357</td>\n",
       "      <td>1.000000</td>\n",
       "      <td>0.197859</td>\n",
       "      <td>0.185071</td>\n",
       "      <td>0.130548</td>\n",
       "    </tr>\n",
       "    <tr>\n",
       "      <th>BMI</th>\n",
       "      <td>0.036242</td>\n",
       "      <td>0.221071</td>\n",
       "      <td>0.197859</td>\n",
       "      <td>1.000000</td>\n",
       "      <td>0.140647</td>\n",
       "      <td>0.292695</td>\n",
       "    </tr>\n",
       "    <tr>\n",
       "      <th>DPF</th>\n",
       "      <td>0.033561</td>\n",
       "      <td>0.137337</td>\n",
       "      <td>0.185071</td>\n",
       "      <td>0.140647</td>\n",
       "      <td>1.000000</td>\n",
       "      <td>0.173844</td>\n",
       "    </tr>\n",
       "    <tr>\n",
       "      <th>Diabet</th>\n",
       "      <td>0.238356</td>\n",
       "      <td>0.466581</td>\n",
       "      <td>0.130548</td>\n",
       "      <td>0.292695</td>\n",
       "      <td>0.173844</td>\n",
       "      <td>1.000000</td>\n",
       "    </tr>\n",
       "  </tbody>\n",
       "</table>\n",
       "</div>"
      ],
      "text/plain": [
       "             AGE       PGL       INS       BMI       DPF    Diabet\n",
       "AGE     1.000000  0.263514 -0.042163  0.036242  0.033561  0.238356\n",
       "PGL     0.263514  1.000000  0.331357  0.221071  0.137337  0.466581\n",
       "INS    -0.042163  0.331357  1.000000  0.197859  0.185071  0.130548\n",
       "BMI     0.036242  0.221071  0.197859  1.000000  0.140647  0.292695\n",
       "DPF     0.033561  0.137337  0.185071  0.140647  1.000000  0.173844\n",
       "Diabet  0.238356  0.466581  0.130548  0.292695  0.173844  1.000000"
      ]
     },
     "execution_count": 9,
     "metadata": {},
     "output_type": "execute_result"
    }
   ],
   "source": [
    "dfb.corr()"
   ]
  },
  {
   "cell_type": "code",
   "execution_count": 10,
   "id": "86ec86dd",
   "metadata": {
    "id": "86ec86dd",
    "outputId": "66d2d790-d0e0-4703-c9fe-17fb55bcb714"
   },
   "outputs": [
    {
     "data": {
      "image/png": "[encoded data removed]",
      "text/plain": [
       "<Figure size 432x288 with 2 Axes>"
      ]
     },
     "metadata": {
      "needs_background": "light"
     },
     "output_type": "display_data"
    }
   ],
   "source": [
    "sns.heatmap(dfb.corr(), annot=True)\n",
    "plt.title('Correlation Plot')\n",
    "plt.show()"
   ]
  },
  {
   "cell_type": "code",
   "execution_count": 11,
   "id": "d9198db4",
   "metadata": {
    "id": "d9198db4",
    "outputId": "25f4dc1d-2a90-4e68-df64-c76c696bc942"
   },
   "outputs": [
    {
     "name": "stdout",
     "output_type": "stream",
     "text": [
      "Frequency Distribution of Diabetic Women of Pima Heritage\n",
      "Doesn't Have Diabetes    500\n",
      "Has Diabetes             268\n",
      "Name: Diabet, dtype: int64\n"
     ]
    }
   ],
   "source": [
    "#Find frequency of Pima Native American women who have diabetes\n",
    "print(\"Frequency Distribution of Diabetic Women of Pima Heritage\")\n",
    "\n",
    "dfb['Diabet']=dfb['Diabet'].astype('category') #convert to catergorical dtype\n",
    "dfb['Diabet']=dfb['Diabet'].cat.rename_categories([\"Doesn't Have Diabetes\", \"Has Diabetes\"])\n",
    "\n",
    "#show the counts of who has diabetes and who doesn't\n",
    "diabetes_freq = dfb['Diabet'].value_counts(sort=False)\n",
    "\n",
    "print(diabetes_freq)"
   ]
  },
  {
   "cell_type": "code",
   "execution_count": 12,
   "id": "e41edaf3",
   "metadata": {
    "id": "e41edaf3",
    "outputId": "f89360c0-98d6-4b94-e300-5214e5c19961"
   },
   "outputs": [
    {
     "data": {
      "text/plain": [
       "<function matplotlib.pyplot.show(close=None, block=None)>"
      ]
     },
     "execution_count": 12,
     "metadata": {},
     "output_type": "execute_result"
    },
    {
     "data": {
      "image/png": "[encoded data removed]",
      "text/plain": [
       "<Figure size 432x288 with 1 Axes>"
      ]
     },
     "metadata": {
      "needs_background": "light"
     },
     "output_type": "display_data"
    }
   ],
   "source": [
    "#plot the frequency table\n",
    "%matplotlib inline\n",
    "sns.countplot(x='Diabet', data=dfb)\n",
    "plt.title(\"Frequency Distribution of Diabetic Women of Pima Heritage\")\n",
    "plt.show"
   ]
  },
  {
   "cell_type": "code",
   "execution_count": 13,
   "id": "38fd6da4",
   "metadata": {
    "id": "38fd6da4",
    "outputId": "508171e0-00f1-4943-fe1d-241b49203505"
   },
   "outputs": [
    {
     "data": {
      "text/plain": [
       "count                       768\n",
       "unique                        2\n",
       "top       Doesn't Have Diabetes\n",
       "freq                        500\n",
       "Name: Diabet, dtype: object"
      ]
     },
     "execution_count": 13,
     "metadata": {},
     "output_type": "execute_result"
    }
   ],
   "source": [
    "dfb['Diabet'].describe()"
   ]
  },
  {
   "cell_type": "code",
   "execution_count": 14,
   "id": "cf4a47f9",
   "metadata": {
    "id": "cf4a47f9",
    "outputId": "e93c34ed-ef99-4285-b282-cfcb368f389a"
   },
   "outputs": [
    {
     "data": {
      "text/plain": [
       "Text(0.5, 1.0, 'Age Distribution Plot')"
      ]
     },
     "execution_count": 14,
     "metadata": {},
     "output_type": "execute_result"
    },
    {
     "data": {
      "image/png": "[encoded data removed]",
      "text/plain": [
       "<Figure size 360x360 with 1 Axes>"
      ]
     },
     "metadata": {
      "needs_background": "light"
     },
     "output_type": "display_data"
    }
   ],
   "source": [
    "#Plot Age Distribution \n",
    "sns.displot(dfb['AGE'].dropna())\n",
    "plt.xlabel(\"Age\")\n",
    "plt.title(\"Age Distribution Plot\")"
   ]
  },
  {
   "cell_type": "code",
   "execution_count": 15,
   "id": "419dcb40",
   "metadata": {
    "id": "419dcb40",
    "outputId": "ca741b2f-1a09-488b-d0d4-325a3e30e82a"
   },
   "outputs": [
    {
     "data": {
      "text/plain": [
       "count    768.000000\n",
       "mean      33.240885\n",
       "std       11.760232\n",
       "min       21.000000\n",
       "25%       24.000000\n",
       "50%       29.000000\n",
       "75%       41.000000\n",
       "max       81.000000\n",
       "Name: AGE, dtype: float64"
      ]
     },
     "execution_count": 15,
     "metadata": {},
     "output_type": "execute_result"
    }
   ],
   "source": [
    "dfb[\"AGE\"].describe()"
   ]
  },
  {
   "cell_type": "code",
   "execution_count": 16,
   "id": "1a302153",
   "metadata": {
    "id": "1a302153",
    "outputId": "324167d2-6c17-48e7-fa46-a19d9949a498"
   },
   "outputs": [
    {
     "data": {
      "text/plain": [
       "Text(0.5, 1.0, \"BMI Distribution of those who have Diabetes and those who don't have Diabetes\")"
      ]
     },
     "execution_count": 16,
     "metadata": {},
     "output_type": "execute_result"
    },
    {
     "data": {
      "image/png": "[encoded data removed]",
      "text/plain": [
       "<Figure size 360x360 with 1 Axes>"
      ]
     },
     "metadata": {
      "needs_background": "light"
     },
     "output_type": "display_data"
    }
   ],
   "source": [
    "#Plot for BMI and Diabet to show the distributions with respect to category \n",
    "sns.catplot(x='Diabet', y='BMI', data=dfb, kind = \"box\") \n",
    "plt.xlabel(\"Diabetes\")\n",
    "plt.ylabel('BMI')\n",
    "plt.title(\"BMI Distribution of those who have Diabetes and those who don't have Diabetes\")"
   ]
  },
  {
   "cell_type": "code",
   "execution_count": 17,
   "id": "1c522d1f",
   "metadata": {
    "id": "1c522d1f",
    "outputId": "766fcebc-d53f-4c4c-b87d-991e36b921c5"
   },
   "outputs": [
    {
     "data": {
      "text/plain": [
       "Text(0.5, 1.0, \"Age Distribution of those who have Diabetes and those who don't have Diabetes\")"
      ]
     },
     "execution_count": 17,
     "metadata": {},
     "output_type": "execute_result"
    },
    {
     "data": {
      "image/png": "[encoded data removed]",
      "text/plain": [
       "<Figure size 360x360 with 1 Axes>"
      ]
     },
     "metadata": {
      "needs_background": "light"
     },
     "output_type": "display_data"
    }
   ],
   "source": [
    "#Plot for Age and Diabet\n",
    "sns.catplot(x='Diabet', y='AGE', data=dfb) \n",
    "plt.xlabel(\"Diabetes\")\n",
    "plt.ylabel('Age')\n",
    "plt.title(\"Age Distribution of those who have Diabetes and those who don't have Diabetes\")"
   ]
  },
  {
   "cell_type": "code",
   "execution_count": 18,
   "id": "aa56ac2a",
   "metadata": {
    "id": "aa56ac2a",
    "outputId": "242f5489-f18c-4c13-a7c3-d493b04faa92"
   },
   "outputs": [
    {
     "data": {
      "text/plain": [
       "Text(0.5, 1.0, \"DPF Distribution of those who have Diabetes and those who don't have Diabetes\")"
      ]
     },
     "execution_count": 18,
     "metadata": {},
     "output_type": "execute_result"
    },
    {
     "data": {
      "image/png": "[encoded data removed]",
      "text/plain": [
       "<Figure size 360x360 with 1 Axes>"
      ]
     },
     "metadata": {
      "needs_background": "light"
     },
     "output_type": "display_data"
    }
   ],
   "source": [
    "#Plot for DPF and Diabet\n",
    "sns.catplot(x='Diabet', y='DPF', data=dfb, kind = \"bar\", ci = False)  \n",
    "plt.xlabel(\"Diabet\")\n",
    "plt.ylabel('DPF')\n",
    "plt.title(\"DPF Distribution of those who have Diabetes and those who don't have Diabetes\")"
   ]
  },
  {
   "cell_type": "code",
   "execution_count": 19,
   "id": "8f33a5f7",
   "metadata": {
    "id": "8f33a5f7",
    "outputId": "6083ac3c-7cbd-4388-9f4f-f28c233d8b03"
   },
   "outputs": [
    {
     "data": {
      "text/plain": [
       "Text(0.5, 1.0, 'Scatterplot to show the relationship between Insulin and Plasma Glucose Concentration')"
      ]
     },
     "execution_count": 19,
     "metadata": {},
     "output_type": "execute_result"
    },
    {
     "data": {
      "image/png": "[encoded data removed]",
      "text/plain": [
       "<Figure size 432x288 with 1 Axes>"
      ]
     },
     "metadata": {
      "needs_background": "light"
     },
     "output_type": "display_data"
    }
   ],
   "source": [
    "#Linear Regression Model between Glucose Concentration and Insulin Level\n",
    "sns.regplot(x='PGL', y='INS', data=dfb, fit_reg=True)\n",
    "plt.ylabel(\"Serum Insulin(mu U/ml)\")\n",
    "plt.xlabel('Plasma Glucose Concentration')\n",
    "plt.title(\"Scatterplot to show the relationship between Insulin and Plasma Glucose Concentration\")"
   ]
  },
  {
   "cell_type": "code",
   "execution_count": 20,
   "id": "b354e559",
   "metadata": {
    "id": "b354e559",
    "outputId": "db06cbd6-8f48-4b6e-dcf8-671c531d7b88"
   },
   "outputs": [
    {
     "data": {
      "text/html": [
       "<table class=\"simpletable\">\n",
       "<caption>OLS Regression Results</caption>\n",
       "<tr>\n",
       "  <th>Dep. Variable:</th>           <td>INS</td>       <th>  R-squared (uncentered):</th>      <td>   0.385</td>\n",
       "</tr>\n",
       "<tr>\n",
       "  <th>Model:</th>                   <td>OLS</td>       <th>  Adj. R-squared (uncentered):</th> <td>   0.384</td>\n",
       "</tr>\n",
       "<tr>\n",
       "  <th>Method:</th>             <td>Least Squares</td>  <th>  F-statistic:       </th>          <td>   479.5</td>\n",
       "</tr>\n",
       "<tr>\n",
       "  <th>Date:</th>             <td>Sun, 22 May 2022</td> <th>  Prob (F-statistic):</th>          <td>6.13e-83</td>\n",
       "</tr>\n",
       "<tr>\n",
       "  <th>Time:</th>                 <td>09:37:14</td>     <th>  Log-Likelihood:    </th>          <td> -4699.1</td>\n",
       "</tr>\n",
       "<tr>\n",
       "  <th>No. Observations:</th>      <td>   768</td>      <th>  AIC:               </th>          <td>   9400.</td>\n",
       "</tr>\n",
       "<tr>\n",
       "  <th>Df Residuals:</th>          <td>   767</td>      <th>  BIC:               </th>          <td>   9405.</td>\n",
       "</tr>\n",
       "<tr>\n",
       "  <th>Df Model:</th>              <td>     1</td>      <th>                     </th>              <td> </td>   \n",
       "</tr>\n",
       "<tr>\n",
       "  <th>Covariance Type:</th>      <td>nonrobust</td>    <th>                     </th>              <td> </td>   \n",
       "</tr>\n",
       "</table>\n",
       "<table class=\"simpletable\">\n",
       "<tr>\n",
       "   <td></td>      <th>coef</th>     <th>std err</th>      <th>t</th>      <th>P>|t|</th>  <th>[0.025</th>    <th>0.975]</th>  \n",
       "</tr>\n",
       "<tr>\n",
       "  <th>PGL</th> <td>    0.6950</td> <td>    0.032</td> <td>   21.897</td> <td> 0.000</td> <td>    0.633</td> <td>    0.757</td>\n",
       "</tr>\n",
       "</table>\n",
       "<table class=\"simpletable\">\n",
       "<tr>\n",
       "  <th>Omnibus:</th>       <td>353.348</td> <th>  Durbin-Watson:     </th> <td>   2.044</td>\n",
       "</tr>\n",
       "<tr>\n",
       "  <th>Prob(Omnibus):</th> <td> 0.000</td>  <th>  Jarque-Bera (JB):  </th> <td>1905.284</td>\n",
       "</tr>\n",
       "<tr>\n",
       "  <th>Skew:</th>          <td> 2.061</td>  <th>  Prob(JB):          </th> <td>    0.00</td>\n",
       "</tr>\n",
       "<tr>\n",
       "  <th>Kurtosis:</th>      <td> 9.523</td>  <th>  Cond. No.          </th> <td>    1.00</td>\n",
       "</tr>\n",
       "</table><br/><br/>Notes:<br/>[1] R² is computed without centering (uncentered) since the model does not contain a constant.<br/>[2] Standard Errors assume that the covariance matrix of the errors is correctly specified."
      ],
      "text/plain": [
       "<class 'statsmodels.iolib.summary.Summary'>\n",
       "\"\"\"\n",
       "                                 OLS Regression Results                                \n",
       "=======================================================================================\n",
       "Dep. Variable:                    INS   R-squared (uncentered):                   0.385\n",
       "Model:                            OLS   Adj. R-squared (uncentered):              0.384\n",
       "Method:                 Least Squares   F-statistic:                              479.5\n",
       "Date:                Sun, 22 May 2022   Prob (F-statistic):                    6.13e-83\n",
       "Time:                        09:37:14   Log-Likelihood:                         -4699.1\n",
       "No. Observations:                 768   AIC:                                      9400.\n",
       "Df Residuals:                     767   BIC:                                      9405.\n",
       "Df Model:                           1                                                  \n",
       "Covariance Type:            nonrobust                                                  \n",
       "==============================================================================\n",
       "                 coef    std err          t      P>|t|      [0.025      0.975]\n",
       "------------------------------------------------------------------------------\n",
       "PGL            0.6950      0.032     21.897      0.000       0.633       0.757\n",
       "==============================================================================\n",
       "Omnibus:                      353.348   Durbin-Watson:                   2.044\n",
       "Prob(Omnibus):                  0.000   Jarque-Bera (JB):             1905.284\n",
       "Skew:                           2.061   Prob(JB):                         0.00\n",
       "Kurtosis:                       9.523   Cond. No.                         1.00\n",
       "==============================================================================\n",
       "\n",
       "Notes:\n",
       "[1] R² is computed without centering (uncentered) since the model does not contain a constant.\n",
       "[2] Standard Errors assume that the covariance matrix of the errors is correctly specified.\n",
       "\"\"\""
      ]
     },
     "execution_count": 20,
     "metadata": {},
     "output_type": "execute_result"
    }
   ],
   "source": [
    "#Regression Analysis of Insulin against Glucose Concetration\n",
    "result=sm.OLS(dfb['INS'], dfb['PGL']).fit()\n",
    "result.summary()"
   ]
  }
 ],
 "metadata": {
  "colab": {
   "collapsed_sections": [],
   "name": "Group 10_PartB_Data Analysis.ipynb",
   "provenance": []
  },
  "kernelspec": {
   "display_name": "Python 3",
   "language": "python",
   "name": "python3"
  },
  "language_info": {
   "codemirror_mode": {
    "name": "ipython",
    "version": 3
   },
   "file_extension": ".py",
   "mimetype": "text/x-python",
   "name": "python",
   "nbconvert_exporter": "python",
   "pygments_lexer": "ipython3",
   "version": "3.8.8"
  }
 },
 "nbformat": 4,
 "nbformat_minor": 5
}
